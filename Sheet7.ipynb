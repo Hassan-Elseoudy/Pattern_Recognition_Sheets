{
  "nbformat": 4,
  "nbformat_minor": 0,
  "metadata": {
    "colab": {
      "name": "Sheet7.ipynb",
      "version": "0.3.2",
      "provenance": []
    },
    "kernelspec": {
      "name": "python3",
      "display_name": "Python 3"
    }
  },
  "cells": [
    {
      "metadata": {
        "id": "XpZrZ3I1SE7H",
        "colab_type": "text"
      },
      "cell_type": "markdown",
      "source": [
        "# Sheet 7"
      ]
    },
    {
      "metadata": {
        "id": "NbwFHcT0Rern",
        "colab_type": "text"
      },
      "cell_type": "markdown",
      "source": [
        "**Useful Links**\n",
        "\n",
        "[Linear Regression Basics / Edx](https://www.youtube.com/watch?v=2wEROvCN9-0)\n",
        "\n",
        "[Normal Equation](https://eli.thegreenplace.net/2014/derivation-of-the-normal-equation-for-linear-regression/)\n"
      ]
    },
    {
      "metadata": {
        "id": "FOdhajqeT0OE",
        "colab_type": "code",
        "colab": {}
      },
      "cell_type": "code",
      "source": [
        "import numpy as np\n",
        "from sklearn import linear_model\n",
        "from sklearn.linear_model import LinearRegression"
      ],
      "execution_count": 0,
      "outputs": []
    },
    {
      "metadata": {
        "id": "fbOHLhCVSaNQ",
        "colab_type": "text"
      },
      "cell_type": "markdown",
      "source": [
        "### A. Given the data below\n",
        "\n",
        "![alt text](https://i.ibb.co/ccFCx1z/image.png)"
      ]
    },
    {
      "metadata": {
        "id": "bGVMqFWUS-nx",
        "colab_type": "text"
      },
      "cell_type": "markdown",
      "source": [
        "**How many parameter to find to solve a linear regression problem on the data?**"
      ]
    },
    {
      "metadata": {
        "id": "ZEgHA2mYTMJG",
        "colab_type": "code",
        "colab": {
          "base_uri": "https://localhost:8080/",
          "height": 34
        },
        "outputId": "1dc3a6b3-ba34-487f-ff6d-7f0c9b3eef5d"
      },
      "cell_type": "code",
      "source": [
        "x1 = np.array([1,2,2,2,3,3,4,4,4,5])\n",
        "x2 = np.array([5, 6, 10, 12, 17, 12, 6, 5, 7, 10])\n",
        "Y = np.array([10 ,40 ,50 ,60 ,70 ,50 ,30 ,20 ,40 ,70])\n",
        "X = np.empty((len(x1),3))\n",
        "coefs_ = np.empty((6,3))\n",
        "number_of_parameters = 3 # Theta 0 + 2 (Features)\n",
        "print (number_of_parameters)"
      ],
      "execution_count": 2,
      "outputs": [
        {
          "output_type": "stream",
          "text": [
            "3\n"
          ],
          "name": "stdout"
        }
      ]
    },
    {
      "metadata": {
        "id": "yMVUySn_STxf",
        "colab_type": "text"
      },
      "cell_type": "markdown",
      "source": [
        "**Use Normal equations to find the equation of the line produced using linear\n",
        "regression algorithm. Specify the dimensionality of each matrix carefully.\n",
        "Assume no regularization ?**"
      ]
    },
    {
      "metadata": {
        "id": "ZeNVWx8PSD8c",
        "colab_type": "code",
        "colab": {
          "base_uri": "https://localhost:8080/",
          "height": 34
        },
        "outputId": "1349242e-1b75-403a-c94f-94295d34f662"
      },
      "cell_type": "code",
      "source": [
        "for i in range(len(X)):\n",
        "  X[i] = [1, x1[i] , x2[i]]\n",
        "coefs_[0] = np.matmul(np.linalg.inv(np.matmul(X.T,X)),np.matmul(X.T,Y))\n",
        "print(\"Equation for line: \",np.around(coefs_[0][0],decimals=2) ,\"+\", np.around(coefs_[0][1],decimals=2),\"X1 +\",np.around(coefs_[0][2],decimals=2),\"X2\")"
      ],
      "execution_count": 3,
      "outputs": [
        {
          "output_type": "stream",
          "text": [
            "Equation for line:  -7.99 + 4.29 X1 + 4.35 X2\n"
          ],
          "name": "stdout"
        }
      ]
    },
    {
      "metadata": {
        "id": "eGaqnEcmZs-3",
        "colab_type": "text"
      },
      "cell_type": "markdown",
      "source": [
        "**Use Scikit-learn package for finding the linear regression solution.**"
      ]
    },
    {
      "metadata": {
        "id": "vclgvRBaTPNs",
        "colab_type": "code",
        "colab": {
          "base_uri": "https://localhost:8080/",
          "height": 34
        },
        "outputId": "09fc0577-0186-4100-b8a0-57ce34a81b8c"
      },
      "cell_type": "code",
      "source": [
        "reg = LinearRegression().fit(X, Y)\n",
        "coefs_[1] = reg.coef_\n",
        "print(reg.coef_)"
      ],
      "execution_count": 4,
      "outputs": [
        {
          "output_type": "stream",
          "text": [
            "[0.         4.28571429 4.34782609]\n"
          ],
          "name": "stdout"
        }
      ]
    },
    {
      "metadata": {
        "id": "Br11lIsXcwz2",
        "colab_type": "text"
      },
      "cell_type": "markdown",
      "source": [
        ""
      ]
    },
    {
      "metadata": {
        "id": "g54wPVcxbn8t",
        "colab_type": "code",
        "colab": {
          "base_uri": "https://localhost:8080/",
          "height": 85
        },
        "outputId": "e1ca2a86-2c39-433c-835e-2b77ffa4634b"
      },
      "cell_type": "code",
      "source": [
        "alphas = [0.1,1,10,100] \n",
        "for j,i in zip(range(2,6),alphas):\n",
        "  reg = linear_model.Ridge(alpha=i).fit(X,Y)\n",
        "  coefs_[j] = reg.coef_\n",
        "  print(reg.coef_)"
      ],
      "execution_count": 5,
      "outputs": [
        {
          "output_type": "stream",
          "text": [
            "[0.         4.25531915 4.34467777]\n",
            "[0.         4.         4.31654676]\n",
            "[0.         2.5        4.05405405]\n",
            "[0.         0.52631579 2.5210084 ]\n"
          ],
          "name": "stdout"
        }
      ]
    },
    {
      "metadata": {
        "id": "DErjTn4-ddUk",
        "colab_type": "code",
        "colab": {
          "base_uri": "https://localhost:8080/",
          "height": 697
        },
        "outputId": "133f85f1-1451-41ba-ca19-394f0e91b157"
      },
      "cell_type": "code",
      "source": [
        "pred_y = []\n",
        "pred_y.clear()\n",
        "print(\"Note: theta0 isn't addedd.\")\n",
        "points = np.array([[3,16],[2,4],[5,4]])\n",
        "methods = [\"Normal Equation\",\"Scikit-Learn\",\"Regu - Alpha = 0.1\",\"Regu - Alpha = 1\",\"Regu - Alpha = 10\",\"Regu - Alpha = 100\"]\n",
        "for point in points:\n",
        "  for method,coef_ in zip(methods,coefs_):\n",
        "    print(method)\n",
        "    print(np.around((coef_[1] * point[0] + coef_[2] * point[1]),decimals = 2))\n",
        "  print(\"----\")"
      ],
      "execution_count": 6,
      "outputs": [
        {
          "output_type": "stream",
          "text": [
            "Note: theta0 isn't addedd.\n",
            "Normal Equation\n",
            "82.42\n",
            "Scikit-Learn\n",
            "82.42\n",
            "Regu - Alpha = 0.1\n",
            "82.28\n",
            "Regu - Alpha = 1\n",
            "81.06\n",
            "Regu - Alpha = 10\n",
            "72.36\n",
            "Regu - Alpha = 100\n",
            "41.92\n",
            "----\n",
            "Normal Equation\n",
            "25.96\n",
            "Scikit-Learn\n",
            "25.96\n",
            "Regu - Alpha = 0.1\n",
            "25.89\n",
            "Regu - Alpha = 1\n",
            "25.27\n",
            "Regu - Alpha = 10\n",
            "21.22\n",
            "Regu - Alpha = 100\n",
            "11.14\n",
            "----\n",
            "Normal Equation\n",
            "38.82\n",
            "Scikit-Learn\n",
            "38.82\n",
            "Regu - Alpha = 0.1\n",
            "38.66\n",
            "Regu - Alpha = 1\n",
            "37.27\n",
            "Regu - Alpha = 10\n",
            "28.72\n",
            "Regu - Alpha = 100\n",
            "12.72\n",
            "----\n"
          ],
          "name": "stdout"
        }
      ]
    },
    {
      "metadata": {
        "id": "Gv8g4rYBpHWA",
        "colab_type": "text"
      },
      "cell_type": "markdown",
      "source": [
        "### B. Design a neural net to produce the majority function of three binary inputs"
      ]
    },
    {
      "metadata": {
        "id": "t6kbIIJzpKaf",
        "colab_type": "text"
      },
      "cell_type": "markdown",
      "source": [
        "![alt text](https://i.imgur.com/M6xulLn.jpg)"
      ]
    }
  ]
}